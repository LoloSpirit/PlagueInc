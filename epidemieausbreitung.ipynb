{
 "cells": [
  {
   "cell_type": "markdown",
   "metadata": {},
   "source": [
    "<p style=\"font-size:25px; text-align:center;\">\n",
    "Computational Physics / Numerische Verfahren in der Physik\n",
    "<br>\n",
    "<br>\n",
    "SoSe 2023\n",
    "</p>\n",
    "<br>\n",
    "<p style=\"font-size:15px; text-align:center\">\n",
    "Lorenz von Smekal, Ralf-Arno Tripolt, Robin Kehr, Johannes Roth, Leon Sieke\n",
    "<br>Justus-Liebig-Universität Gießen\n",
    "</p>\n",
    "<br>\n",
    "<p style=\"font-size:30px; color: #3776ab; text-align:center\"><b>\n",
    "Projekt 2: Epidemieausbreitung\n",
    "</b></p>\n",
    "<p style=\"font-size:25px; color: #3776ab; text-align:center\">\n",
    "Populationsdynamik & Netzwerke\n",
    "</p>\n",
    "<div>\n",
    "<p style=\"text-align:center\">\n",
    "<img src=\"figures/netzwerk.png\" width=\"1000\"/>\n",
    "</p>\n",
    "</div>\n"
   ]
  },
  {
   "cell_type": "markdown",
   "metadata": {},
   "source": [
    "# Einführung"
   ]
  },
  {
   "cell_type": "markdown",
   "metadata": {},
   "source": [
    "\n",
    "Infektionskrankheiten stellen eine ständige Bedrohung für die menschliche Zivilisation dar. Durch die moderne Medizin konnte ihre Verbreitung stark eingeschränkt werden. Schwere Pandemien, die ganze Landstriche entvölkern (\"Schwarzer Tod\" 1347-1353), kommen nicht mehr vor. Es konnten jedoch nur sehr wenige Krankheiten ausgerottet werden, und es kommen immer neue Erreger hinzu. In den letzten Jahren hat die Gefährlichkeit der neuen Erreger stark zugenommen und viele der dadurch verursachten Krankheiten können nur unzureichend behandelt werden (z.B. SARS, HUS oder aktuell SARS-CoV-2). Deshalb ist es sehr wichtig, die Dynamik von Infektionskrankheiten in der Bevölkerung gut zu verstehen, um so aus der Kombination aller zur Verfügung stehenden Maßnahmen sinnvolle Strategien zur Eindämmung von Infektionskrankheiten zu erarbeiten. Die aktuelle COVID-19-Pandemie mit SARS-CoV-2 macht dies besonders deutlich.\n",
    "\n",
    "In diesem Projekt soll die Dynamik von Epidemien auf einem Netzwerk simuliert werden. Die Knoten des Netzwerks werden durch Städte mit Flughäfen gebildet. Diese sind durch Kanten verbunden, auf denen Reiseverkehr stattfindet. Durch den Reiseverkehr durchmischen sich die Populationen.  Die Infektionskrankheit innerhalb der Städte wird mit dem SIR-Modell (Susceptible-Infected-Recovered) beschrieben. Die räumliche Ausbreitung der Krankheit ergibt sich aus der Kombination des SIR Modells, das jeweils auf eine Stadt beschränkt ist, und dem Reiseverkehr auf dem Netzwerk. Infizierte Personen reisen in eine Stadt, die bisher frei von Infektionen war, und stecken die dortige Bevölkerung mit der Krankheit an.\n",
    "\n",
    "Ziel ist es die Dynamik von Infektionskrankheiten auf globaler Ebene zu simulieren, um ihr epidemiologisches Verhalten zu untersuchen und beispielsweise Kalkulationen über die Effektivität von Impfprogrammen anzufertigen."
   ]
  },
  {
   "cell_type": "markdown",
   "metadata": {},
   "source": [
    "### Benötigte Pakete"
   ]
  },
  {
   "cell_type": "code",
   "execution_count": 8,
   "metadata": {},
   "outputs": [],
   "source": [
    "import pandas as pd # Datenverarbeitung\n",
    "import numpy as np  # Numerische Berechnungen\n",
    "import matplotlib.pyplot as plt # Visualisierung\n",
    "#import cartopy.crs as ccrs # Kartenprojektionen\n",
    "from scipy.integrate import solve_ivp # Numerische Lösung von Differentialgleichungen"
   ]
  },
  {
   "cell_type": "markdown",
   "metadata": {},
   "source": [
    "\n",
    "### SIR-Modell"
   ]
  },
  {
   "cell_type": "markdown",
   "metadata": {},
   "source": [
    "Das SIR-Modell beschreibt die Ausbreitung einer Infektionskrankheit in einer Bevölkerung. Das Modell funktioniert analog zum bereits in den Übungen behandelten Lotka-Voltera Modell zur Beschreibung von Jäger-Beute-Populationen. Beim SIR-Modell werden drei Gruppen von Individuen unterschieden: Zum Zeitpunkt $t$ bezeichnet $S(t)$ die Anzahl der gegen die Krankheit nicht immunen Gesunden (susceptible individuals), $I(t)$ die Zahl der ansteckenden Infizierten (infectious individuals) sowie $R(t)$ die Anzahl der aus dem Krankheitsgeschehen „entfernten“ Personen (removed individuals). Letzteres erfolgt entweder durch Genesen mit erworbener Immunität gegen die Krankheit oder durch Versterben. Weiterhin sei $N$ die Gesamtzahl der Individuen, das heißt: $ N = I + S + R $.\n",
    "\n",
    "Der einfacheren Schreibweise wegen wird die Zeitabhängigkeit bei $N = N(t)$ , $R = R(t)$ , $S = S(t)$ , $I = I(t)$ im Folgenden weggelassen.\n",
    "\n",
    "Das SIR-Modell berücksichtigt dabei die folgende Dynamik:\n",
    "\n",
    "\\begin{align}\n",
    "    &\\frac{\\mathrm{d} S}{\\mathrm{d} t} = -\\beta \\frac{S I}{N},\\tag{1}\\\\\n",
    "    &\\frac{\\mathrm{d} I}{\\mathrm{d} t} = \\beta \\frac{S I}{N} -\\gamma I,\\tag{2}\\\\\n",
    "    &\\frac{\\mathrm{d} R}{\\mathrm{d} t} = \\gamma I\\tag{3}\n",
    "\\end{align}\n",
    "\n",
    "- Die S-Population wird von der I-Population mit der Krankheit infiziert. Die Infektionsrate ergibt sich aus dem Produkt der Anzahl der infizierbaren Personen, einem Ansteckungsparameter $\\beta$ und dem Anteil der Infizierten an der Gesamtbevölkerung. Der Parameter $\\beta$ ist charakteristisch für die Krankheit und ergibt sich aus der Wahrscheinlichkeit, sich bei Kontakt mit einer infizierten Person anzustecken, und der Anzahl entsprechender Kontakte.\n",
    "\n",
    "- Individuen der I-Population genesen (oder sterben) nach einer gewissen Zeit und sind danach gegen die Krankheit immun, gehen also in die R-Population über. Die entsprechende Übergangsrate  $\\gamma$ entspricht der inversen Dauer der Krankheit.\n",
    "\n",
    "Sie können das Modell im Rahmen der weiterführenden Aufgaben beliebig erweitern. Für die Basisaufgaben soll jedoch nur diese einfache Version verwendet werden. Mehr Informationen zum SIR-Modell und möglichen Erweiterungen finden Sie in den folgenden Wikipedia-Artikeln (und den darin enthaltenen Referenzen):\n",
    "- [https://en.wikipedia.org/wiki/Compartmental_models_in_epidemiology](https://en.wikipedia.org/wiki/Compartmental_models_in_epidemiology)\n",
    "- [https://de.wikipedia.org/wiki/SIR-Modell](https://de.wikipedia.org/wiki/SIR-Modell)"
   ]
  },
  {
   "cell_type": "markdown",
   "metadata": {},
   "source": [
    "### Netzwerk"
   ]
  },
  {
   "cell_type": "markdown",
   "metadata": {},
   "source": [
    "Das Netzwerk, das wir betrachten, besteht aus 508 Knoten und 9294 Kanten.\n",
    "Die Knoten des Netzwerks werden durch alle weltweiten Flughäfen gebildet, die durch einen IATA-Flughafencode gekennzeichnet sind (z.B. steht 'FRA' für den Flughafen Frankfurt).\n",
    "Die Kanten werden durch alle Flugrouten gebildet, die weltweit betrieben werden.\n",
    "\n",
    "Sowohl die Flughäfen- als auch die Routen-Datensätze stammen von [OpenFlights.org](https://openflights.org/) und sind öffentlich zugänglich.\n",
    "Der Programmcode zur Erzeugung des Netzwerkes wird am Ende des Notebooks zur Verfügung gestellt und darf zur Bearbeitung des Projekts übernommen und ggf. abgeändert werden.\n",
    "\n",
    "\n",
    "<img src=\"./figures/netzwerk_europa.png\" width=\"600\"/>\n",
    "\n",
    "Die Daten können wie folgt eingelesen werden:"
   ]
  },
  {
   "cell_type": "code",
   "execution_count": 9,
   "metadata": {},
   "outputs": [],
   "source": [
    "airports = pd.read_csv('./datasets/cleaned_data/airports_cleaned.csv')\n",
    "routes = pd.read_csv('./datasets/cleaned_data/routes_cleaned.csv')\n",
    "routes_matrix = pd.read_csv('./datasets/cleaned_data/routes_matrix_cleaned.csv', index_col=0)"
   ]
  },
  {
   "cell_type": "markdown",
   "metadata": {},
   "source": [
    "\n",
    "### Reisemodell\n"
   ]
  },
  {
   "cell_type": "markdown",
   "metadata": {},
   "source": [
    "Die Reisen in unserem Netzwerk beschreiben wir durch ein [Diffusionsmodell](https://en.wikipedia.org/wiki/Compartmental_models_in_epidemiology#SIR_model_with_diffusion). Dabei werden die Ratengleichungen des SIR-Modells um einen zusätzlichen Diffusionsterm ergänzt, der die räumliche Ausbreitung der jeweiligen Gruppen beschreibt:\n",
    "\\begin{align}\n",
    "    &\\frac{\\mathrm{d} S}{\\mathrm{d} t} = D_S \\nabla^2 S -\\beta \\frac{S I}{N},\\tag{4}\\\\\n",
    "    &\\frac{\\mathrm{d} I}{\\mathrm{d} t} = D_I \\nabla^2 I + \\beta \\frac{S I}{N} -\\gamma I,\\tag{5}\\\\\n",
    "    &\\frac{\\mathrm{d} R}{\\mathrm{d} t} = D_R \\nabla^2 R + \\gamma I,\\tag{6}\n",
    "\\end{align}\n",
    "\n",
    "wobei $D_S$, $D_I$ und $D_R$ Diffusionskonstanten sind, die die Reiseraten der einzelnen Gruppen beschreiben. Diese sollen für die Basisaufgaben als identisch angenommen werden.\n",
    "\n",
    "Auf dem diskreten Netzwerk, das wir betrachten, ist der Laplace-Operator $\\nabla^2$ definiert als\n",
    "\n",
    "\\begin{equation}\n",
    "    \\nabla^2 C_i(t) = \\sum_{j\\sim\\, i}^{\\mathrm{deg}(i)}\\frac{\\bigl[C_j(t) - C_i(t)\\bigr]}{{\\mathrm{deg}(i)}},\\quad \\text{mit } C \\in \\{S, I, R\\}.\\tag{7}\n",
    "\\end{equation}\n",
    "\n",
    "Hierbei steht der Index $i$ für eine bestimmte Stadt des Netzwerkes, (z.B. Frankfurt / FRA). Die Summe läuft dabei über alle Städte $j$ die mit der Stadt $i$ eine Flugverbindung teilen. $\\mathrm{deg}(i)$ ist die Anzahl der Flugverbindungen der Stadt $i$.\n",
    "\n",
    "Dieses Reismodell hat jedoch noch ein Problem. Da die Einwohnerzahlen der Städte unterschiedlich sind, würden durch die Diffusion die Einwohnerzahlen der Städte nicht konstant bleiben. Sondern es würden so lange Reisen stattfinden, bis diese in allen Städten gleich wäre. Um dies zu verhindern betrachten wir stattdessen die Diffusion der *relativen* SIR-Populationen $c_i(t) = \\frac{C_i(t)}{N_i}$, wobei $N_i$ die Einwohnerzahl der Stadt $i$ ist. Die Diffusionsgleichung $(7)$ lautet in abgeänderter Form dann:\n",
    "\n",
    "\\begin{equation}\n",
    "    \\nabla^2 \\frac{C_i(t)}{N_i} = \\sum_{j\\sim\\, i}^{\\mathrm{deg}(i)}\\frac{\\bigl[\\frac{C_j(t)}{N_j} - \\frac{C_i(t)}{N_i}\\bigr]}{{\\mathrm{deg}(i)}},\\quad \\text{mit } C \\in \\{S, I, R\\}.\\tag{8}\n",
    "\\end{equation}\n",
    "\n",
    "Den Faktor $N_i$ können wir noch auf die rechte Seite der Gleichung multiplizieren, und erhalten damit unsere Reisedynamik für die *absoluten* SIR-Populationen:\n",
    "\n",
    "\\begin{equation}\n",
    "    \\frac{\\mathrm{d} C}{\\mathrm{d} t} = D\\, \\nabla^2 C_i(t) = D \\sum_{j\\sim\\, i}^{\\mathrm{deg}(i)}\\frac{\\bigl[\\frac{N_i}{N_j}C_j(t) - C_i(t)\\bigr]}{{\\mathrm{deg}(i)}},\\quad \\text{mit } C \\in \\{S, I, R\\}.\\tag{9}\n",
    "\\end{equation}\n",
    "\n",
    "\n",
    "\n",
    "Da die zur Verfügung stehende Rechenleistung begrenzt ist, werden wir die Dynamik vereinfachen, indem wir zusätzlich annehmen, dass alle Reisen quasi instantan ablaufen, d.h. in jedem Zeitschritt erfolgt eine sofortige Durchmischung. Ansteckungen in Verkehrsmitteln werden nicht extra berücksichtigt. Das führt dazu, dass wir die lokale SIR-Dynamik von der Reisedynamik trennen können und die Differenzielgleichungen nacheinander lösen können."
   ]
  },
  {
   "cell_type": "markdown",
   "metadata": {},
   "source": [
    "### Zeitentwicklung"
   ]
  },
  {
   "cell_type": "markdown",
   "metadata": {},
   "source": [
    "\n",
    "In jedem Zeitschritt berechnen wir zuerst für jede Stadt $i$ die lokalen Änderungen der SIR-Populationen aufgrund des Infektionsgeschehens nach den Differenzialgleichungen $(1) - (3)$. Anschließend berechnen wir für jede Stadt $i$ die Änderungen der SIR-Populationen aufgrund der Reisedynamik nach der Differenzialgleichung $(9)$.\n",
    "\n",
    "Das Modell soll so ausgelegt werden, dass ein Zeitschritt genau einem Tag entspricht. Die Parameter des SIR-Modells müssen entsprechend gewählt werden."
   ]
  },
  {
   "cell_type": "markdown",
   "metadata": {},
   "source": [
    "# Aufgaben"
   ]
  },
  {
   "cell_type": "markdown",
   "metadata": {},
   "source": [
    "### Basisaufgaben"
   ]
  },
  {
   "cell_type": "markdown",
   "metadata": {},
   "source": [
    "- Machen Sie sich mit dem Modell vertraut und überlegen Sie sich, wie realistisch es ist. Was wird korrekt abgebildet und was nicht?\n",
    "- Das Netzwerk wird Ihnen zur Verfügung gestellt. Lesen Sie die Daten ein und machen Sie sich damit vertraut.\n",
    "- Implementieren Sie Funktionen, um die Änderung der Populationen in einer Stadt aufgrund der Reisebewegungen zu berechnen.\n",
    "- Implementieren Sie drei Funktionen, um die Änderung der Populationen in einer Stadt aufgrund der lokalen SIR-Dynamik zu berechnen, jede mit einer anderen Strategie zur Lösung der Differenzialgleichungen. Verwenden Sie die folgenden Verfahren:\n",
    "  - ein Schritt des in der Vorlesung erwähnten Runge-Kutta-Verfahrens 4. Ordnung  \n",
    "  - ein Schritt des in der Vorlesung erwähnten Euler-Verfahrens  \n",
    "  - die scipy-Funktion `solve_ivp` mit der Standardmethode `method='RK45'`"
   ]
  },
  {
   "cell_type": "markdown",
   "metadata": {},
   "source": [
    "- Fassen Sie diese Funktionen zusammen, um sie auf das gesamte Netzwerk anzuwenden. Halten Sie sich beim ausführen eines Zeitschrittes an die folgende Reihenfolge:\n",
    "  1. Änderungen der Populationen in jeder Stadt aufgrund der lokalen SIR-Dynamik.\n",
    "  2. Änderungen der Populationen in jeder Stadt aufgrund der Reisebewegungen."
   ]
  },
  {
   "cell_type": "markdown",
   "metadata": {},
   "source": [
    "#### Testen der Implementation"
   ]
  },
  {
   "cell_type": "markdown",
   "metadata": {},
   "source": [
    "\n",
    "Anhand einiger einfacher Tests sollen Sie überprüfen, ob Ihre Implementation grobe Fehler enthält.\n",
    "\n",
    "- Wie verhält sich das Modell, wenn es keine infizierten Personen gibt?\n",
    "- Können Sie anhand der Differenzialgleichungen Grenzfälle für bestimmte Parameter erkennen? Überprüfen Sie diese Grenzfälle mit Ihrem Modell.\n",
    "- Starten Sie eine Krankheit mit $\\beta = 0.7$ und $\\gamma = 0.07$ und einer Reiserate von $D = 0.01$ mit 1000 Infizierten in Frankfurt (FRA). Führen Sie 30 Zeitschritte aus. Untersuchen Sie das Verhahalten für alle drei Lösungsverfahren. Worin liegen die Stärken und Schwächen der einzelnen Verfahren? Welche der drei Implementationen halten Sie für die geeignetste?\n",
    "- Betrachten Sie drei verschieden Krankheiten. Versuchen Sie aus zugänglichen Informationen sinnvolle Parameter abzuleiten."
   ]
  },
  {
   "cell_type": "markdown",
   "metadata": {},
   "source": [
    "#### Graphische Darstellung"
   ]
  },
  {
   "cell_type": "markdown",
   "metadata": {},
   "source": [
    "- Erstellen Sie eine Animation einer Krankheit auf einer Europakarte, wählen Sie die Parameter so dass man die Ausbreitung der Krankheit gut erkennen kann."
   ]
  },
  {
   "cell_type": "markdown",
   "metadata": {},
   "source": [
    "### Weiterführende Aufgaben"
   ]
  },
  {
   "cell_type": "markdown",
   "metadata": {},
   "source": [
    "Bearbeiten Sie Fragestellungen für insgesamt 4 Punkte aus der folgenden Liste, oder überlegen Sie sich gerne auch eigene Fragestellungen, diese müssen bzgl. der Punktvergabe jedoch vorher mit uns abgesprochen werden.\n",
    "\n",
    "- Wie lassen sich Maßnahmen zur Eindämmung von Infektionen in dieses Modell einbauen? Solche Maßnahmen können zum Beispiel Informations- oder Impfkampagnen, Reisebeschränkungen, Social Distancing oder Flughafenschließungen sein. Wie stark müssen die Maßnahmen umgesetzt werden, um einen Effekt zu erzielen? Für welche Krankheiten eignen sich welche Maßnahmen besonders gut/schlecht und warum? (0,5 Punkte pro Maßnahme)\n",
    "\n",
    "- Erweitern Sie das SIR-Modell durch eine vierte Gruppe X, welche Personen beinhaltet, die in Quarantäne sind oder durch Kontaktbeschränkungen oder Verhaltensveränderungen nicht mehr an der Ausbreitung teilnehmen (SIR-X-Modell, https://science.sciencemag.org/content/368/6492/742). Die Kontaktreduzierung von Infizierten wird durch einen Parameter $\\kappa$ bestimmt ($\\kappa$ = 0: keine Quarantäne). Kontaktreduzierungen für alle werden durch einen Parameter $\\kappa_0$ bestimmt. Wie unterscheidet sich der Verlauf einer Epidemie im Vergleich zu einer ungestörten Ausbreitung, wie sie durch das SIR-Modell beschrieben wird? (1 Punkt)\n",
    "\n",
    "- Erweitern Sie das SIR-X-Modell, so dass asymptomatisch Kranke, welche also nicht als krank erkannt werden aber dennoch infektiös sind, berücksichtigt werden können. (1 Punkt)\n",
    "\n",
    "- Erweitern Sie das SIR-Modell, indem Sie weitere Gruppen einführen. Modellieren Sie dadurch zum Beispiel die Inkubationszeit oder eine zeitlich beschränkte Immunität. (je 1 Punkt)\n",
    "\n",
    "- Inkludieren Sie die Möglichkeit, dass Menschen an der Krankheit sterben. (1 Punkt)\n",
    "\n",
    "- Der Ansteckungsparameter $\\beta$ hängt von der Kontaktrate und der Ansteckungsrate ab. Ersterer lässt sich zum Beispiel durch Maßnahmen wie Social Distancing, zweiterer zum Beispiel durch das Tragen von Masken verändern. Schätzen Sie für verschiedene Krankheiten ab, wie effektiv verschiedene Maßnahmen sind, indem Sie Änderungen von $\\beta$ berücksichtigen. (1 Punkt)\n",
    "\n",
    "- Erweitern Sie das SIR-Modell so, dass unterschiedliche Ansteckungsraten für Teile der Bevölkerung möglich sind. Dies kann aus biologischen Gründen relevant sein (manche Überträger haben z.B. eine besonders hohe Virenlast). Auch eine erhöhte Kontaktrate mancher Berufsgruppen kann dazu führen, dass eine Krankheit dadurch vermehrt übertragen wird. Wie unterscheidet sich die Ausbreitung einer Krankheit, wenn Superspreading eine besondere Rolle spielt? (2 Punkte)\n",
    "\n",
    "- Variieren Sie die Krankheitsparameter $\\beta$ und $\\gamma$ mit der Zeit, um saisonal auftretende Infektionen (Grippe) oder Kontaktbeschränkungen zu beschreiben. (1 Punkt)\n",
    "\n",
    "- Oft sind die genauen Parameter des Modells nicht exakt bekannt. Zum Teil unterscheiden sie sich auch in verschiedenen Regionen, da sie zum Beispiel von den Hygienebedingungen oder gesellschaftlichen Umständen abhängen. Letztendlich sind sie auch zeitlich nicht konstant, da das Wissen um eine Epidemie das menschliche Verhalten ändert. Untersuchen Sie die unterschiedlichen Auswirkungen, wenn die Parameter $\\beta$ und $\\gamma$ nicht exakt bekannt sind. Als Beispiel können Sie Schätzungen des Robert-Koch-Instituts für SARS-CoV-2 verwenden (1 Punkt): $1/10 < \\gamma < 1/8$ und $0.28 < \\beta < 0.48$.\n",
    "\n",
    "- Erstellen Sie ein weiteres Netzwerk für z.B. Nordamerika (USA und Kanada) und verbinden Sie es über Flughäfen mit Europa. (1 Punkt)\n",
    "\n",
    "- Werden Sie kreativ, und benutzen Sie Ihr Modell um Phänomene jenseits der Ausbreitung von Krankheiten zu untersuchen. Hier finden Sie Inspiration für mögliche Anwendungen in den Bereichen der Soziologie, Informatik, Ökonomie und Science Fiction: https://arxiv.org/pdf/1611.02565.pdf (je 1 Punkt)"
   ]
  },
  {
   "cell_type": "markdown",
   "metadata": {},
   "source": [
    "# Anhang"
   ]
  },
  {
   "cell_type": "markdown",
   "metadata": {},
   "source": [
    "### Beschriebung der Flughafen Daten\n",
    "\n",
    "<table>\n",
    "\t\t<tr>\n",
    "\t\t  <td class=\"head\">Airport ID</td>\n",
    "\t\t  <td class=\"data\">Unique OpenFlights identifier for this airport.\n",
    "\t\t</td></tr>\n",
    "\t\t<tr>\n",
    "\t\t  <td class=\"head\">Name</td>\n",
    "\t\t  <td class=\"data\">Name of airport.  May or may not contain the <b>City</b> name.</td>\n",
    "\t\t</tr>\n",
    "\t\t<tr>\n",
    "\t\t  <td class=\"head\">City</td>\n",
    "\t\t  <td class=\"data\">Main city served by airport.  May be spelled differently from <b>Name</b>.</td>\n",
    "\t\t</tr>\n",
    "\t\t<tr>\n",
    "\t\t  <td class=\"head\">Country</td>\n",
    "\t\t  <td class=\"data\">Country or territory where airport is located.  See <a href=\"#country\">Countries</a> to cross-reference to ISO 3166-1 codes.\n",
    "\t\t  </td>\n",
    "\t\t</tr>\n",
    "\t\t<tr>\n",
    "\t\t  <td class=\"head\">IATA</td>\n",
    "\t\t  <td class=\"data\">3-letter IATA code. (Of the airpot)  Null if not assigned/unknown.</td>\n",
    "\t\t</tr>\n",
    "\t\t<tr>\n",
    "\t\t  <td class=\"head\">ICAO</td>\n",
    "\t\t  <td class=\"data\">4-letter ICAO code. (Of the airpot)<br>\n",
    "\t\t    Null if not assigned.</td>\n",
    "\t\t</tr>\n",
    "\t\t<tr>\n",
    "\t\t  <td class=\"head\">Latitude</td>\n",
    "\t\t  <td class=\"data\">Decimal degrees, usually to six significant digits.  Negative is South, positive is North.</td>\n",
    "\t\t</tr>\n",
    "\t\t<tr>\n",
    "\t\t  <td class=\"head\">Longitude</td>\n",
    "\t\t  <td class=\"data\">Decimal degrees, usually to six significant digits.  Negative is West, positive is East.</td>\n",
    "\t\t</tr>\n",
    "\t\t<tr>\n",
    "\t\t  <td class=\"head\">Altitude</td>\n",
    "\t\t  <td class=\"data\">In feet.</td>\n",
    "\t\t</tr>\n",
    "\t\t<tr>\n",
    "\t\t  <td class=\"head\">Timezone</td>\n",
    "\t\t  <td class=\"data\">Hours offset from UTC.  Fractional hours are expressed as decimals, eg. India is 5.5.</td>\n",
    "\t\t</tr>\n",
    "\t\t<tr>\n",
    "\t\t  <td class=\"head\">DST</td>\n",
    "\t\t  <td class=\"data\">Daylight savings time.  One of E (Europe), A (US/Canada), S (South America), O (Australia), Z (New Zealand), N (None) or U (Unknown). <i>See also: <a target=\"_blank\" href=\"help/time.html\">Help: Time</a></i><a target=\"_blank\" href=\"help/time.html\">\n",
    "\t\t</a></td></tr>\n",
    "\t\t<tr>\n",
    "\t\t  <td class=\"head\">Tz database time zone</td>\n",
    "\t\t  <td class=\"data\">Timezone in <a href=\"http://en.wikipedia.org/wiki/Tz_database\">\"tz\" (Olson) format</a>, eg. \"America/Los_Angeles\".\n",
    "\t\t</td></tr>\n",
    "\t\t<tr>\n",
    "\t\t  <td class=\"head\">Type</td>\n",
    "\t\t  <td class=\"data\">Type of the airport.  Value \"airport\" for air terminals, \"station\" for train stations, \"port\" for\n",
    "\t\t  ferry terminals and \"unknown\" if not known.  <i>In airports.csv, only type=airport is included.</i>\n",
    "\t\t</td></tr>\n",
    "\t\t<tr>\n",
    "\t\t  <td class=\"head\">Source</td>\n",
    "\t\t  <td class=\"data\">Source of this data.  \"OurAirports\" for data sourced from <a href=\"http://ourairports.com/data/\">OurAirports</a>, \"Legacy\" for old data not matched to OurAirports (mostly DAFIF), \"User\" for unverified user contributions.  <i>In airports.csv, only source=OurAirports is included.</i>\n",
    "\t\t</td></tr>\n",
    "\t      \n",
    "</table>\n",
    "\n",
    "### Beschreibung der Flugrouten Daten\n",
    "\n",
    "<table>\n",
    "    <tr>\n",
    "      <td class=\"head\">Airline</td>\n",
    "      <td class=\"data\">2-letter (IATA) or 3-letter (ICAO) code of the airline.\n",
    "    </td></tr>\n",
    "    <tr>\n",
    "      <td class=\"head\">Airline ID</td>\n",
    "      <td class=\"data\">Unique OpenFlights identifier for airline (see <a href=\"#airline\">Airline</a>).\n",
    "    </td></tr>\n",
    "    <tr>\n",
    "      <td class=\"head\">Source airport</td>\n",
    "      <td class=\"data\">3-letter (IATA) or 4-letter (ICAO) code of the source airport.<br>\n",
    "    </td></tr>\n",
    "    <tr>\n",
    "      <td class=\"head\">Source airport ID</td>\n",
    "      <td class=\"data\">Unique OpenFlights identifier for source airport (see <a href=\"#airport\">Airport</a>)\n",
    "    </td></tr>\n",
    "    <tr>\n",
    "      <td class=\"head\">Destination airport</td>\n",
    "      <td class=\"data\">3-letter (IATA) or 4-letter (ICAO) code of the destination airport.<br>\n",
    "    </td></tr>\n",
    "    <tr>\n",
    "      <td class=\"head\">Destination airport ID</td>\n",
    "      <td class=\"data\">Unique OpenFlights identifier for destination airport (see <a href=\"#airport\">Airport</a>)\n",
    "    </td></tr>\n",
    "    <tr>\n",
    "      <td class=\"head\">Codeshare</td>\n",
    "      <td class=\"data\">\"Y\" if this flight is a codeshare (that is, not operated by <i>Airline</i>, but another carrier), empty otherwise.</td>\n",
    "    </tr>\n",
    "    <tr>\n",
    "      <td class=\"head\">Stops</td>\n",
    "      <td class=\"data\">Number of stops on this flight (\"0\" for direct)</td>\n",
    "    </tr>\n",
    "    <tr>\n",
    "      <td class=\"head\">Equipment</td>\n",
    "      <td class=\"data\">3-letter codes for plane type(s) generally used on this flight, separated by spaces</td>\n",
    "    </tr>\n",
    "</table>"
   ]
  },
  {
   "cell_type": "markdown",
   "metadata": {},
   "source": [
    "### Importieren und Bereinigen der Daten"
   ]
  },
  {
   "cell_type": "code",
   "execution_count": 10,
   "metadata": {},
   "outputs": [],
   "source": [
    "def import_and_clean_data():\n",
    "    \"\"\"Returns cleaned airports and routes dataframes\"\"\"\n",
    "    ###########################\n",
    "    ### Import the raw data ###\n",
    "    ###########################\n",
    "\n",
    "    airports = pd.read_csv('./datasets/raw_data/airports.csv')\n",
    "    airports.columns = ['airport_id', 'name', 'city', 'country', 'IATA', 'ICAO', 'latitude',\n",
    "                        'longitude', 'altitude', 'timezone', 'DST', 'tz', 'type', 'source']\n",
    "\n",
    "    airport_populations = pd.read_csv(\n",
    "        './datasets/raw_data/airport_populations.csv')\n",
    "    airport_populations.columns = ['IATA', 'population']\n",
    "\n",
    "    routes = pd.read_csv('./datasets/raw_data/routes.csv')\n",
    "    routes.columns = ['airline', 'airline_id', 'source_airport', 'source_airport_id',\n",
    "                      'destination_airport', 'destination_airport_id', 'codeshare', 'stops',\n",
    "                      'equipment']\n",
    "\n",
    "    ##########################################\n",
    "    ### Clean the airports and routes data ###\n",
    "    ##########################################\n",
    "    \n",
    "    # Round population numbers\n",
    "    airport_populations['population'] = airport_populations['population'].round().astype(int)\n",
    "\n",
    "    # Merge the airports and airport_populations dataframes\n",
    "    airports = airports.merge(airport_populations, on='IATA')\n",
    "\n",
    "    # Remove airports outside of Europe, we don't consider Russia as part of Europe\n",
    "    airports = airports[airports['tz'].str.contains('Europe')]\n",
    "    airports = airports[~airports['country'].str.contains('Russia')]\n",
    "\n",
    "    #Only keep interesting columns\n",
    "    airports = airports[['name', 'city', 'country',\n",
    "                         'IATA', 'latitude', 'longitude', 'population']]\n",
    "    routes = routes[['source_airport', 'destination_airport']]\n",
    "\n",
    "    # Remove Null values\n",
    "    airports.dropna(inplace=True)\n",
    "    routes.dropna(inplace=True)\n",
    "\n",
    "    # Only keep routes with source and destination inside of Europe\n",
    "    routes = routes[(routes['source_airport'].isin(airports['IATA'].values))\n",
    "                    & (routes['destination_airport'].isin(airports['IATA'].values))]\n",
    "\n",
    "    # Only keep airports with incoming and outgoing routes inside of europe\n",
    "    airports = airports[(airports['IATA'].isin(routes['source_airport'].values))\n",
    "                        & (airports['IATA'].isin(routes['destination_airport'].values))]\n",
    "\n",
    "    # Remove routes between airports, that we just threw out\n",
    "    routes = routes[(routes['source_airport'].isin(airports['IATA'].values))\n",
    "                    & (routes['destination_airport'].isin(airports['IATA'].values))]\n",
    "\n",
    "    # Remove duplicate routes\n",
    "    routes = routes.drop_duplicates()\n",
    "\n",
    "    # Sort airports and routes alphabetically\n",
    "    airports = airports.sort_values(by='IATA')\n",
    "    routes = routes.sort_values(by='source_airport')\n",
    "\n",
    "    # Reset indices\n",
    "    airports = airports.reset_index().drop(columns='index')\n",
    "    routes = routes.reset_index().drop(columns='index')\n",
    "\n",
    "    return airports, routes\n",
    "\n",
    "def create_route_matrix(routes):\n",
    "    \"\"\"Returns a matrix with ones where there is a route between airports and zeros otherwise\"\"\"\n",
    "    # Create a sorted list of all airport IATA codes\n",
    "    airport_IATAs = list(\n",
    "        set(routes['source_airport'].unique()).union(\n",
    "            set(routes['destination_airport'].unique()))\n",
    "    )\n",
    "\n",
    "    airport_IATAs.sort()\n",
    "\n",
    "    # Create a mapping from airport IATA codes to indices\n",
    "    idx_mapping = {node: idx for idx, node in enumerate(airport_IATAs)}\n",
    "\n",
    "    # Create the routes matrix\n",
    "    n_airports = len(airport_IATAs)\n",
    "    Y = np.zeros((n_airports, n_airports))\n",
    "    for source, destination in routes.values:\n",
    "        Y[idx_mapping[source], idx_mapping[destination]] = 1\n",
    "        # Symmetric because we assume that there are routes in both directions\n",
    "        Y[idx_mapping[destination], idx_mapping[source]] = 1\n",
    "\n",
    "    # Convert to pandas dataframe\n",
    "    df = pd.DataFrame(Y)\n",
    "    df.index = pd.Index(airport_IATAs)\n",
    "    df.columns = airport_IATAs\n",
    "\n",
    "    return df\n",
    "\n",
    "\n",
    "airports, routes = import_and_clean_data()\n",
    "\n",
    "routes_matrix = create_route_matrix(routes)\n",
    "\n",
    "# Export cleaned data\n",
    "airports.to_csv('./datasets/cleaned_data/airports_cleaned.csv', index=False)\n",
    "routes.to_csv('./datasets/cleaned_data/routes_cleaned.csv', index=False)\n",
    "routes_matrix.to_csv('./datasets/cleaned_data/routes_matrix_cleaned.csv', index=True)"
   ]
  },
  {
   "cell_type": "markdown",
   "metadata": {},
   "source": [
    "# Model Implementation"
   ]
  },
  {
   "cell_type": "code",
   "execution_count": 11,
   "metadata": {},
   "outputs": [],
   "source": [
    "# data class to hold infection values\n",
    "class City:\n",
    "    def __init__(self, population, IATA):\n",
    "        self.population = population\n",
    "        self.IATA = IATA\n",
    "        self.S = population\n",
    "        self.I = 0\n",
    "        self.R = 0\n",
    "    \n",
    "    def infect_percent(self, percent):\n",
    "        self.I += self.S * percent\n",
    "        self.S = self.S - self.S * percent\n",
    "        \n",
    "    def infect(self, newly_infected):\n",
    "        self.I += newly_infected\n",
    "        self.S = self.S - newly_infected\n",
    "        \n",
    "    def reset_city(self):\n",
    "        self.S = self.population\n",
    "        self.I = 0\n",
    "        self.R = 0"
   ]
  },
  {
   "cell_type": "code",
   "execution_count": 41,
   "metadata": {},
   "outputs": [
    {
     "data": {
      "text/plain": [
       "(0.0, 0.0, 0.0)"
      ]
     },
     "execution_count": 41,
     "metadata": {},
     "output_type": "execute_result"
    }
   ],
   "source": [
    "# create a dict with iata to cities\n",
    "cities = {}\n",
    "for airport in (airports[['population', 'IATA']]).values:\n",
    "    cities[airport[1]] = (City(airport[0], airport[1]))\n",
    "    \n",
    "def the_cure():\n",
    "    for c in cities.values():\n",
    "        c.reset_city()    \n",
    "\n",
    "def calculate_travel (ci : City, ds, di, dr, routes_matrix : pd.DataFrame):\n",
    "    # Calculate a travel step for given city\n",
    "    sumS = 0\n",
    "    sumI = 0\n",
    "    sumR = 0\n",
    "    deg_i = 0\n",
    "    \n",
    "    # Build sum over all connected cities\n",
    "    for i, conn in enumerate(routes_matrix[ci.IATA]):\n",
    "        if conn == 0:\n",
    "            continue\n",
    "        \n",
    "        iata = routes_matrix.index[i]\n",
    "        cj = cities[iata]\n",
    "        n = ci.population / cj.population\n",
    "        sumS += n * cj.S - ci.S\n",
    "        sumI += n * cj.I - ci.I\n",
    "        sumR += n * cj.R - ci.R \n",
    "        \n",
    "        deg_i += 1\n",
    "    \n",
    "    return (ds * sumS / deg_i, di * sumI / deg_i, dr * sumR / deg_i)\n",
    "      \n",
    "\n",
    "calculate_travel(cities['AAL'], 1, 1, 1, routes_matrix)"
   ]
  },
  {
   "cell_type": "code",
   "execution_count": 13,
   "metadata": {},
   "outputs": [],
   "source": [
    "def plot_SIR(title, t, s, i, r):\n",
    "    # Plot SIR values\n",
    "    plt.close()\n",
    "    plt.plot(t, s, label='S')\n",
    "    plt.plot(t, i, label='I')\n",
    "    plt.plot(t, r, label='R')\n",
    "    plt.xlabel('Days')\n",
    "    plt.ylabel('People')\n",
    "    plt.title(title)\n",
    "    plt.legend()\n",
    "    plt.show()"
   ]
  },
  {
   "cell_type": "code",
   "execution_count": 14,
   "metadata": {},
   "outputs": [
    {
     "data": {
      "image/png": "[encoded data removed]",
      "text/plain": [
       "<Figure size 432x288 with 1 Axes>"
      ]
     },
     "metadata": {
      "needs_background": "light"
     },
     "output_type": "display_data"
    },
    {
     "data": {
      "image/png": "[encoded data removed]",
      "text/plain": [
       "<Figure size 432x288 with 1 Axes>"
      ]
     },
     "metadata": {
      "needs_background": "light"
     },
     "output_type": "display_data"
    },
    {
     "data": {
      "image/png": "[encoded data removed]",
      "text/plain": [
       "<Figure size 432x288 with 1 Axes>"
      ]
     },
     "metadata": {
      "needs_background": "light"
     },
     "output_type": "display_data"
    }
   ],
   "source": [
    "from scipy.integrate import solve_ivp\n",
    "import matplotlib.pyplot as plt\n",
    "\n",
    "# infect people - intial condition\n",
    "test_city = cities['LHR']\n",
    "test_city.reset_city()\n",
    "test_city.infect_percent(.4)\n",
    "\n",
    "\n",
    "def calculate_SIR_ivp(c : City, beta, gamma, days):\n",
    "    # solve the SIR differential equations within given city for given parameters\n",
    "    def derivatives(t, state):\n",
    "        S = state[0]\n",
    "        I = state[1]\n",
    "        \n",
    "        N = c.population\n",
    "        \n",
    "        dS_dt = -beta / N * S * I\n",
    "        dI_dt = beta / N * S * I - gamma * I\n",
    "        dR_dt = gamma * I\n",
    "        return [dS_dt, dI_dt, dR_dt]\n",
    "    \n",
    "    return solve_ivp(derivatives, [0, days], [c.S, c.I, c.R], max_step=1)\n",
    "\n",
    "\n",
    "def calculate_SIR_runge_kutta(c : City, beta, gamma, days):\n",
    "    # solve the SIR differential equations within given city for given parameters\n",
    "    dt = 1\n",
    "    \n",
    "    t_values = np.zeros(days + 1)\n",
    "    S_values = np.zeros(days + 1)\n",
    "    I_values = np.zeros(days + 1)\n",
    "    R_values = np.zeros(days + 1)\n",
    "    \n",
    "    # initial conditions\n",
    "    t_values[0] = 0\n",
    "    S_values[0] = c.S\n",
    "    I_values[0] = c.I\n",
    "    R_values[0] = c.R\n",
    "\n",
    "    b_over_n = beta / c.population\n",
    "    \n",
    "    def derivatives(S, I):\n",
    "        dS_dt = -b_over_n * S * I\n",
    "        dI_dt = b_over_n * S * I - gamma * I\n",
    "        dR_dt = gamma * I\n",
    "        return dS_dt, dI_dt, dR_dt\n",
    "    \n",
    "    for i in range(days):\n",
    "        t = t_values[i]\n",
    "        S = S_values[i]\n",
    "        I = I_values[i]\n",
    "        R = R_values[i]\n",
    "\n",
    "        # Runge Kutta to the 4th order\n",
    "        k1_S, k1_I, k1_R = derivatives(S, I) * dt\n",
    "        k2_S, k2_I, k2_R = derivatives(S + 0.5 * k1_S, I + 0.5 * k1_I) * dt\n",
    "        k3_S, k3_I, k3_R = derivatives(S + 0.5 * k2_S, I + 0.5 * k2_I) * dt\n",
    "        k4_S, k4_I, k4_R = derivatives(S + k3_S, I + k3_I) * dt\n",
    "        \n",
    "        # update the solution\n",
    "        t_values[i+1] = t + dt\n",
    "        S_values[i+1] = S + (1/6) * (k1_S + 2*k2_S + 2*k3_S + k4_S)\n",
    "        I_values[i+1] = I + (1/6) * (k1_I + 2*k2_I + 2*k3_I + k4_I)\n",
    "        R_values[i+1] = R + (1/6) * (k1_R + 2*k2_R + 2*k3_R + k4_R)\n",
    "    \n",
    "    return t_values, S_values, I_values, R_values\n",
    "\n",
    "def calculate_SIR_euler(c : City, beta, gamma, days):\n",
    "    # solve the SIR differential equations within given city for given parameters\n",
    "    N = c.population\n",
    "    time_step = 1\n",
    "    t = []\n",
    "    s = []\n",
    "    i = []\n",
    "    r = []\n",
    "\n",
    "    for d in range(days):\n",
    "        # append values to list\n",
    "        t.append(d)\n",
    "        s.append(c.S)\n",
    "        i.append(c.I)\n",
    "        r.append(c.R)\n",
    "        \n",
    "        # calculate each step\n",
    "        dS_dt = -beta / N * c.S * c.I\n",
    "        dI_dt = beta / N * c.S * c.I - gamma * c.I\n",
    "        dR_dt = gamma * c.I\n",
    "        \n",
    "        # add steps multiplied by timestep\n",
    "        c.S += dS_dt * time_step\n",
    "        c.I += dI_dt * time_step\n",
    "        c.R += dR_dt * time_step\n",
    "    \n",
    "    return t, s, i, r\n",
    "\n",
    "# ivp\n",
    "sol = calculate_SIR_ivp(test_city, 0.7, 0.07, 50)\n",
    "plot_SIR('IVP', sol.t, sol.y[0], sol.y[1], sol.y[2])\n",
    "\n",
    "# runge-kutta\n",
    "t, s, i, r = calculate_SIR_runge_kutta(test_city, 0.7, 0.07, 50)\n",
    "plot_SIR('Runge-Kutta', t, s, i, r)\n",
    "\n",
    "# euler\n",
    "t, s, i, r = calculate_SIR_euler(test_city, 0.7, 0.07, 50)\n",
    "plot_SIR('Euler', t, s, i, r)"
   ]
  },
  {
   "cell_type": "markdown",
   "metadata": {},
   "source": [
    "# Zusammenführung Reisemodell und SIR Modell"
   ]
  },
  {
   "cell_type": "code",
   "execution_count": 37,
   "metadata": {},
   "outputs": [],
   "source": [
    "def SIR_one_city_one_day_RK(c : City, beta, gamma, dt):\n",
    "    # solve the SIR differential equations within given city for given parameters\n",
    "\n",
    "    b_over_n = beta / c.population\n",
    "    \n",
    "    def derivatives(S, I):\n",
    "        dS_dt = -b_over_n * S * I\n",
    "        dI_dt = b_over_n * S * I - gamma * I\n",
    "        dR_dt = gamma * I\n",
    "        return dS_dt, dI_dt, dR_dt\n",
    "    \n",
    "    S = c.S\n",
    "    I = c.I\n",
    "    R = c.R\n",
    "    \n",
    "    # Runge Kutta to the 4th order\n",
    "    k1_S, k1_I, k1_R = derivatives(S, I) * dt\n",
    "    k2_S, k2_I, k2_R = derivatives(S + 0.5 * k1_S, I + 0.5 * k1_I) * dt\n",
    "    k3_S, k3_I, k3_R = derivatives(S + 0.5 * k2_S, I + 0.5 * k2_I) * dt\n",
    "    k4_S, k4_I, k4_R = derivatives(S + k3_S, I + k3_I) * dt\n",
    "        \n",
    "    # update the city\n",
    "    c.S = S + (1/6) * (k1_S + 2*k2_S + 2*k3_S + k4_S)\n",
    "    c.I = I + (1/6) * (k1_I + 2*k2_I + 2*k3_I + k4_I)\n",
    "    c.R = R + (1/6) * (k1_R + 2*k2_R + 2*k3_R + k4_R)\n",
    "    return c"
   ]
  },
  {
   "cell_type": "code",
   "execution_count": 43,
   "metadata": {},
   "outputs": [],
   "source": [
    "def combined_simulation(beta, gamma, ds, di, dr, days):\n",
    "    \n",
    "    SIR_values = {}\n",
    "    for c in cities:\n",
    "        SIR_values[c] = []\n",
    "    t = []\n",
    "    \n",
    "    for i in range(days):\n",
    "        for c in cities.values():\n",
    "            c = SIR_one_city_one_day_RK(c,beta,gamma,1)\n",
    "            diff_S, diff_I, diff_R = calculate_travel (c, ds, di, dr, routes_matrix)\n",
    "            c.S += diff_S\n",
    "            c.I += diff_I\n",
    "            c.R += diff_R\n",
    "            \n",
    "            SIR_values[c.IATA].append((c.S, c.I, c.R))\n",
    "            \n",
    "        t.append(i)    \n",
    "    return t, SIR_values"
   ]
  },
  {
   "cell_type": "code",
   "execution_count": 55,
   "metadata": {},
   "outputs": [
    {
     "data": {
      "image/png": "[encoded data removed]",
      "text/plain": [
       "<Figure size 432x288 with 1 Axes>"
      ]
     },
     "metadata": {
      "needs_background": "light"
     },
     "output_type": "display_data"
    }
   ],
   "source": [
    "the_cure()\n",
    "cities['FRA'].infect(5)\n",
    "t, SIR_values = combined_simulation(0.7,0.07,0.01,0.01,0.01,100)\n",
    "stadt='AAL'\n",
    "S, I, R = zip(*SIR_values[stadt])\n",
    "\n",
    "plot_SIR(stadt, t, S, I, R)"
   ]
  },
  {
   "cell_type": "markdown",
   "metadata": {},
   "source": [
    "### Graphische Darstellung des Netzwerkes"
   ]
  },
  {
   "cell_type": "code",
   "execution_count": 17,
   "metadata": {},
   "outputs": [
    {
     "ename": "NameError",
     "evalue": "name 'ccrs' is not defined",
     "output_type": "error",
     "traceback": [
      "\u001b[1;31m---------------------------------------------------------------------------\u001b[0m",
      "\u001b[1;31mNameError\u001b[0m                                 Traceback (most recent call last)",
      "\u001b[1;32m~\\AppData\\Local\\Temp/ipykernel_13300/2093787449.py\u001b[0m in \u001b[0;36m<module>\u001b[1;34m\u001b[0m\n\u001b[0;32m     46\u001b[0m \u001b[1;33m\u001b[0m\u001b[0m\n\u001b[0;32m     47\u001b[0m \u001b[1;33m\u001b[0m\u001b[0m\n\u001b[1;32m---> 48\u001b[1;33m \u001b[0mplotNetworkOnMap\u001b[0m\u001b[1;33m(\u001b[0m\u001b[0mairports\u001b[0m\u001b[1;33m,\u001b[0m \u001b[0mroutes_matrix\u001b[0m\u001b[1;33m,\u001b[0m \u001b[0mshow_routes\u001b[0m\u001b[1;33m=\u001b[0m\u001b[1;32mTrue\u001b[0m\u001b[1;33m)\u001b[0m\u001b[1;33m\u001b[0m\u001b[1;33m\u001b[0m\u001b[0m\n\u001b[0m",
      "\u001b[1;32m~\\AppData\\Local\\Temp/ipykernel_13300/2093787449.py\u001b[0m in \u001b[0;36mplotNetworkOnMap\u001b[1;34m(airports, routes_matrix, show_routes)\u001b[0m\n\u001b[0;32m      6\u001b[0m \u001b[1;33m\u001b[0m\u001b[0m\n\u001b[0;32m      7\u001b[0m     \u001b[1;31m# Create a new map with the PlateCarree projection.\u001b[0m\u001b[1;33m\u001b[0m\u001b[1;33m\u001b[0m\u001b[0m\n\u001b[1;32m----> 8\u001b[1;33m     \u001b[0max\u001b[0m \u001b[1;33m=\u001b[0m \u001b[0mplt\u001b[0m\u001b[1;33m.\u001b[0m\u001b[0maxes\u001b[0m\u001b[1;33m(\u001b[0m\u001b[0mprojection\u001b[0m\u001b[1;33m=\u001b[0m\u001b[0mccrs\u001b[0m\u001b[1;33m.\u001b[0m\u001b[0mPlateCarree\u001b[0m\u001b[1;33m(\u001b[0m\u001b[1;33m)\u001b[0m\u001b[1;33m)\u001b[0m\u001b[1;33m\u001b[0m\u001b[1;33m\u001b[0m\u001b[0m\n\u001b[0m\u001b[0;32m      9\u001b[0m \u001b[1;33m\u001b[0m\u001b[0m\n\u001b[0;32m     10\u001b[0m     \u001b[1;31m# Add coastlines to the map\u001b[0m\u001b[1;33m\u001b[0m\u001b[1;33m\u001b[0m\u001b[0m\n",
      "\u001b[1;31mNameError\u001b[0m: name 'ccrs' is not defined"
     ]
    },
    {
     "data": {
      "text/plain": [
       "<Figure size 1152x648 with 0 Axes>"
      ]
     },
     "metadata": {},
     "output_type": "display_data"
    }
   ],
   "source": [
    "import time\n",
    "\n",
    "def plotNetworkOnMap(airports, routes_matrix, show_routes=False):\n",
    "    \"\"\"Stellt das Netzwerk auf einer Karte dar.\"\"\"\n",
    "    plt.figure(figsize=(16, 9))\n",
    "\n",
    "    # Create a new map with the PlateCarree projection.\n",
    "    ax = plt.axes(projection=ccrs.PlateCarree())\n",
    "\n",
    "    # Add coastlines to the map\n",
    "    ax.coastlines() # type: ignore\n",
    "    \n",
    "    start = time.time()\n",
    "    \n",
    "    #########################\n",
    "    ### Plot all airports ###\n",
    "    #########################\n",
    "\n",
    "    # Create a mapping from airport IATA codes to latitudes and longitudes\n",
    "    airport_IATA_to_lat_lon = {row[0] : {'lat': row[1], 'lon': row[2]}\n",
    "                               for row in airports[['IATA', 'latitude', 'longitude']].values}\n",
    "\n",
    "    ##########################################################\n",
    "    ###                 Plot all routes                    ###\n",
    "    ### Note: This can take a long time for large networks ###\n",
    "    ##########################################################\n",
    "\n",
    "\n",
    "    if (show_routes):\n",
    "        n = routes_matrix.shape[0]\n",
    "        for i in range(n):\n",
    "            airport = routes_matrix.index[i]\n",
    "            pos = airport_IATA_to_lat_lon[airport]\n",
    "            ax.plot(pos['lon'], pos['lat'], 'o', transform=ccrs.Geodetic(), c='k', markersize=4)\n",
    "            \n",
    "            for j in range(i):\n",
    "                if routes_matrix.iloc[i, j] != 0:\n",
    "                    source_pos = pos\n",
    "                    dest_pos = airport_IATA_to_lat_lon[routes_matrix.columns[j]]\n",
    "                    ax.plot([source_pos['lon'], dest_pos['lon']],\n",
    "                            [source_pos['lat'], dest_pos['lat']],\n",
    "                            transform=ccrs.Geodetic(),\n",
    "                            c='r', alpha=0.03, markersize=.02)\n",
    "    print(time.time() - start)\n",
    "    plt.show()\n",
    "\n",
    "\n",
    "plotNetworkOnMap(airports, routes_matrix, show_routes=True)"
   ]
  }
 ],
 "metadata": {
  "kernelspec": {
   "display_name": "Python 3 (ipykernel)",
   "language": "python",
   "name": "python3"
  },
  "language_info": {
   "codemirror_mode": {
    "name": "ipython",
    "version": 3
   },
   "file_extension": ".py",
   "mimetype": "text/x-python",
   "name": "python",
   "nbconvert_exporter": "python",
   "pygments_lexer": "ipython3",
   "version": "3.9.7"
  },
  "vscode": {
   "interpreter": {
    "hash": "e7370f93d1d0cde622a1f8e1c04877d8463912d04d973331ad4851f04de6915a"
   }
  }
 },
 "nbformat": 4,
 "nbformat_minor": 4
}
