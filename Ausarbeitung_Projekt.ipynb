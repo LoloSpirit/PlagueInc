{
 "cells": [
  {
   "cell_type": "markdown",
   "id": "cb77754f-f1b8-4c06-a187-91d64f23a06f",
   "metadata": {},
   "source": [
    "<p style=\"font-size:30px; color: #3776ab; text-align:center\"><b>\n",
    "Projekt 2: Epidemieausbreitung\n",
    "</b></p>\n",
    "<p style=\"font-size:25px; color: #3776ab; text-align:center\">\n",
    "Populationsdynamik & Netzwerke\n",
    "</p>\n",
    "<br>\n",
    "<p style=\"font-size:15px; text-align:center\">\n",
    "von Lorenz Saalmann, Jonathan Fimmen und Peter Preisler\n",
    "<br>begleitet durch Leon Sieke\n",
    "</p>\n",
    "<br>"
   ]
  },
  {
   "cell_type": "markdown",
   "id": "4ab6423c-c2e5-4c8d-8f3d-29af806dc1a4",
   "metadata": {
    "tags": []
   },
   "source": [
    "# Inhaltsverzeichnis"
   ]
  },
  {
   "cell_type": "markdown",
   "id": "d7f90717-d0f2-42b3-8601-35978ad9e350",
   "metadata": {},
   "source": [
    "1. Einführung\n",
    "2. Verwendetes Modell\n",
    "3. Grundlegende Implementation\n",
    "4. Test des Grundmodells\n",
    "5. Erweiterung des Modells\n",
    "6. Abschließende Ergebnisse und Tests"
   ]
  },
  {
   "cell_type": "markdown",
   "id": "3b2ff36d-2ab7-4b4d-956d-ed78dc09e598",
   "metadata": {},
   "source": [
    "# 1. Einführung"
   ]
  },
  {
   "cell_type": "markdown",
   "id": "86ddfd89-ce9e-42b9-80e3-9a91da2457a8",
   "metadata": {},
   "source": [
    "Das Jahr 2020 wird den meisten Menschen als das Jahr in Erinnerung bleiben, in dem die Covid-19-Pandemie den Erdball überrollt hat. Die globalisierte Welt in Verbindung mit einem passend ausgestatteten Virus haben dafür gesorgt, dass das öffentliche Leben zeitweise nahezu vollständig eingestellt werden musste um die Ausbreitung aufzuhalten. Dadurch wurde der Menschheit aufgezeigt, wie wichtig es ist die Ausbreitungsdynamik beliebiger Krankheiten zu verstehen. Denn nur dann können passende und wirksame Maßnahmen getroffen werden. Da sich unglaublich viele Faktoren auf diese Dynamik auswirken, sollten Vorbereitungen getroffen werden um möglichst gute Modelle zu erstellen. \n",
    "\n",
    "In dieser Arbeit werden zwei Modelle miteinander kombiniert. Die Ansteckungen werden mithilfe des SIR-Modells (Susceptible-Infected-Recovered) beschrieben, während die Reisebewegungen unter Verwendung eines Diffusionsmodells eingebracht werden. Die daraus resultierenden Differentialgleichungen werden im nächsten Kapitel diskutiert. Mit dem Modell soll anschließend die Ausbreitung einer Infektionskrankheit in Europa beschrieben werden, wobei die Flughäfen mit ihren Einzugsgebieten in der SIR-Dynamik eine Identität darstellen, welche durch das Diffusionsmodell miteiander in Verbidnung stehen."
   ]
  },
  {
   "cell_type": "markdown",
   "id": "d778269a-b230-49ab-bbd6-149b6bdc9c5f",
   "metadata": {},
   "source": [
    "# 2. Verwendetes Modell"
   ]
  },
  {
   "cell_type": "markdown",
   "id": "86af32f3-0849-4771-96d2-f79eddc33b10",
   "metadata": {},
   "source": [
    "2.1 SIR-Modell:\n",
    "\n",
    "Wie der Name schon nahelegt unterscheidet das grundlegende Modell drei verschiedene Gruppen. Einmal die \"Suceptible\" Bevölkerung (S), welche durch die Krankheit infiziert werden kann. Dann die \"Infected\" Gruppe (I), welche derzeit mit der Krankheit infiziert ist. Und schließlich die \"Recovered\" Personen (R), welche nicht mehr von der Krankheit befallen und jetzt immun sind. Dabei wird zunächst nicht unterschieden, ob diese gestorben sind, oder sie die Krankheit besiegt haben. Es ergeben sich folgende Differntialgleichungen (wobei $N=S+I+R$ und alle zeitabhängig):\n",
    "\n",
    "\\begin{align}\n",
    "    &\\frac{\\mathrm{d} S}{\\mathrm{d} t} = -\\beta \\frac{S I}{N},\\tag{1}\\\\\n",
    "    &\\frac{\\mathrm{d} I}{\\mathrm{d} t} = \\beta \\frac{S I}{N} -\\gamma I,\\tag{2}\\\\\n",
    "    &\\frac{\\mathrm{d} R}{\\mathrm{d} t} = \\gamma I\\tag{3}\n",
    "\\end{align}\n",
    "\n",
    "Während der Parameter $\\beta$ die Ansteckungsrate angibt, steht $\\gamma$ in Verbindung zur Rate in der infizierte Personen versterben, oder sich von der Kranheit erholen. $\\beta$ ist also abhängig davon, wie viele Menschen eine infizierte Person ansteckt, was widerrum von der Infektiösität des Virus' und der Zahl der Menschen, mit denen die Person Kontakt hat, abhängt. $\\gamma$ ist hingegen durch die inverse durchschnittliche Dauer der Krankheit bestimmt.\n",
    "\n",
    "2.2 Diffsionsmodell\n",
    "\n"
   ]
  }
 ],
 "metadata": {
  "kernelspec": {
   "display_name": "Python 3 (ipykernel)",
   "language": "python",
   "name": "python3"
  },
  "language_info": {
   "codemirror_mode": {
    "name": "ipython",
    "version": 3
   },
   "file_extension": ".py",
   "mimetype": "text/x-python",
   "name": "python",
   "nbconvert_exporter": "python",
   "pygments_lexer": "ipython3",
   "version": "3.9.7"
  }
 },
 "nbformat": 4,
 "nbformat_minor": 5
}
